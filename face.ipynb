{
 "cells": [
  {
   "cell_type": "code",
   "execution_count": 3,
   "metadata": {},
   "outputs": [],
   "source": [
    "import cv2\n",
    "import numpy as np\n",
    "import face_recognition\n",
    "import pickle\n",
    "import os\n",
    "from datetime import datetime"
   ]
  },
  {
   "cell_type": "code",
   "execution_count": 4,
   "metadata": {},
   "outputs": [],
   "source": [
    "path = 'Training_images'\n",
    "images = []\n",
    "classNames = []\n",
    "myList = os.listdir(path)"
   ]
  },
  {
   "cell_type": "code",
   "execution_count": 5,
   "metadata": {},
   "outputs": [
    {
     "name": "stdout",
     "output_type": "stream",
     "text": [
      "['Acharekar.jpg', 'Ayush.jpg', 'Belpatre.jpg', 'BHUVAN.jpg', 'Darshika.jpg', 'Ganesh.jpg', 'Katkar.jpg', 'Lokesh.jpg', 'Manav.jpg', 'Pranav.jpg', 'prasad.jpg', 'Prathamesh.jpg', 'RAkshata.jpg', 'Ramesh.jpg', 'sakshishinde.jpg', 'Shreyas.jpg', 'Shrushti.jpg', 'Shubhangi.jpg', 'Suraj.jpg']\n",
      "['Acharekar', 'Ayush', 'Belpatre', 'BHUVAN', 'Darshika', 'Ganesh', 'Katkar', 'Lokesh', 'Manav', 'Pranav', 'prasad', 'Prathamesh', 'RAkshata', 'Ramesh', 'sakshishinde', 'Shreyas', 'Shrushti', 'Shubhangi', 'Suraj']\n"
     ]
    }
   ],
   "source": [
    "print(myList)\n",
    "for cl in myList:\n",
    "    curImg = cv2.imread(f'{path}/{cl}')\n",
    "    images.append(curImg)\n",
    "    classNames.append(os.path.splitext(cl)[0])\n",
    "print(classNames)"
   ]
  },
  {
   "cell_type": "code",
   "execution_count": 6,
   "metadata": {},
   "outputs": [],
   "source": [
    "from concurrent.futures import ThreadPoolExecutor\n",
    "\n",
    "def findEncodings(images):\n",
    "    encodeList = []\n",
    "\n",
    "    def encode_faces(img):\n",
    "        img = cv2.cvtColor(img, cv2.COLOR_BGR2RGB)\n",
    "        face_encodings = face_recognition.face_encodings(img)\n",
    "        if face_encodings:\n",
    "            return face_encodings[0]\n",
    "        return None\n",
    "\n",
    "    with ThreadPoolExecutor() as executor:\n",
    "        results = executor.map(encode_faces, images)\n",
    "\n",
    "    encodeList = [encoding for encoding in results if encoding is not None]\n",
    "\n",
    "    return encodeList"
   ]
  },
  {
   "cell_type": "code",
   "execution_count": 7,
   "metadata": {},
   "outputs": [
    {
     "name": "stdout",
     "output_type": "stream",
     "text": [
      "Encoding Complete\n"
     ]
    }
   ],
   "source": [
    "encodeListKnown = findEncodings(images)\n",
    "print('Encoding Complete')"
   ]
  },
  {
   "cell_type": "code",
   "execution_count": 8,
   "metadata": {},
   "outputs": [],
   "source": [
    "with open('encoded_faces.pkl', 'wb') as file:\n",
    "    pickle.dump(encodeListKnown, file)"
   ]
  }
 ],
 "metadata": {
  "kernelspec": {
   "display_name": "face_reco",
   "language": "python",
   "name": "python3"
  },
  "language_info": {
   "codemirror_mode": {
    "name": "ipython",
    "version": 3
   },
   "file_extension": ".py",
   "mimetype": "text/x-python",
   "name": "python",
   "nbconvert_exporter": "python",
   "pygments_lexer": "ipython3",
   "version": "3.7.16"
  }
 },
 "nbformat": 4,
 "nbformat_minor": 2
}
